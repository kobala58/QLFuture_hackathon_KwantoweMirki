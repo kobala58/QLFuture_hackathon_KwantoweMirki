{
 "cells": [
  {
   "cell_type": "code",
   "execution_count": 3,
   "id": "initial_id",
   "metadata": {
    "collapsed": true,
    "ExecuteTime": {
     "end_time": "2024-04-14T05:36:51.986961388Z",
     "start_time": "2024-04-14T05:36:45.481710660Z"
    }
   },
   "outputs": [
    {
     "name": "stdout",
     "output_type": "stream",
     "text": [
      "PrimitiveResult([PubResult(data=DataBin<1>(evs=[292.41230408], stds=[3.7100141], ensemble_standard_error=[3.59771688]), metadata={'shots': 10016, 'target_precision': 0.01, 'circuit_metadata': {}, 'resilience': {'twirled_readout_errors': [[25, 0.00244140625], [26, 0.01416015625], [39, 0.00390625], [40, 0.00537109375], [43, 0.0087890625], [44, 0.0185546875]]}, 'num_randomizations': 32})], metadata={'twirling': {'enable_gates': False, 'enable_measure': True, 'strategy': 'active-accum'}, 'resilience': {'measure_mitigation': True}, 'version': 2})\n",
      "Expectation values for pub 0: [292.41230408]\n"
     ]
    }
   ],
   "source": [
    "from qiskit_ibm_runtime import QiskitRuntimeService\n",
    "\n",
    "service = QiskitRuntimeService(\n",
    "    channel='ibm_quantum',\n",
    "    instance='ibm-q/open/main',\n",
    "    token='f94ac321cc1f3d4cdf4405497462612138aaf73f98fdd3b2f0bd5b763173925667a63bfee29a9f1314ca9901e26f3137b4f37df5f1ace14a1447312c12da7930'\n",
    ")\n",
    "job = service.job('crdpp30djmqg008kfq00')\n",
    "job_result = job.result()\n",
    "print(job_result)\n",
    "for idx, pub_result in enumerate(job_result):\n",
    "    print(f\"Expectation values for pub {idx}: {pub_result.data.evs}\")"
   ]
  }
 ],
 "metadata": {
  "kernelspec": {
   "display_name": "Python 3",
   "language": "python",
   "name": "python3"
  },
  "language_info": {
   "codemirror_mode": {
    "name": "ipython",
    "version": 2
   },
   "file_extension": ".py",
   "mimetype": "text/x-python",
   "name": "python",
   "nbconvert_exporter": "python",
   "pygments_lexer": "ipython2",
   "version": "2.7.6"
  }
 },
 "nbformat": 4,
 "nbformat_minor": 5
}
